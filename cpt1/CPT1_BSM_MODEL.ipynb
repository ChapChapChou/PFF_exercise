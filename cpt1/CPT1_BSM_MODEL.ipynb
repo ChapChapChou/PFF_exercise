{
 "cells": [
  {
   "cell_type": "code",
   "execution_count": 8,
   "source": [
    "'''\r\n",
    "BSM sample code in PFF cpt.1\r\n",
    "exp(x)==e^x\r\n",
    "np.mean(x)==求数组x的平均数\r\n",
    "stats.norm.cdf==计算累积标准正态分布函数 \r\n",
    "'''\r\n",
    "import math\r\n",
    "import numpy as np\r\n",
    "from scipy import stats"
   ],
   "outputs": [],
   "metadata": {}
  },
  {
   "cell_type": "code",
   "execution_count": 2,
   "source": [
    "S0=100.  #初始价格100\r\n",
    "K=105.   #行权价格105\r\n",
    "T=1.0    #到期时间1年\r\n",
    "r=0.05   #短期固定无风险利率5%\r\n",
    "sigma=0.2#固定波动率20%"
   ],
   "outputs": [],
   "metadata": {}
  },
  {
   "cell_type": "code",
   "execution_count": 3,
   "source": [
    "#设定随机数生成器种子数为1000，并提取I个标准正态分布随机数\r\n",
    "I=100000\r\n",
    "np.random.seed(1000)\r\n",
    "z=np.random.standard_normal(I)"
   ],
   "outputs": [],
   "metadata": {}
  },
  {
   "cell_type": "code",
   "execution_count": 4,
   "source": [
    "#计算所有到期价值\r\n",
    "ST=S0*np.exp((r-sigma**2/2)*T+sigma*math.sqrt(T)*z)"
   ],
   "outputs": [],
   "metadata": {}
  },
  {
   "cell_type": "code",
   "execution_count": 5,
   "source": [
    "#计算所有到期收益\r\n",
    "hT=np.maximum(ST-K,0)"
   ],
   "outputs": [],
   "metadata": {}
  },
  {
   "cell_type": "code",
   "execution_count": 6,
   "source": [
    "#代入计算蒙特卡罗估算函数\r\n",
    "C0=math.exp(-r*T)*np.mean(hT)"
   ],
   "outputs": [],
   "metadata": {}
  },
  {
   "cell_type": "code",
   "execution_count": 9,
   "source": [
    "#分别计算看涨看跌期权\r\n",
    "d1=(np.log(S0/K)+(r+sigma**2/2)*T)/(sigma*np.sqrt(T))\r\n",
    "d2=d1-sigma*np.sqrt(T)\r\n",
    "#看涨\r\n",
    "C=S0*stats.norm.cdf(d1)-K*np.exp(-r*T)*stats.norm.cdf(d2)\r\n",
    "#看跌\r\n",
    "P=K*np.exp(-r*T)*stats.norm.cdf(-d2)-S0*stats.norm.cdf(-d1)"
   ],
   "outputs": [],
   "metadata": {}
  },
  {
   "cell_type": "code",
   "execution_count": 16,
   "source": [
    "'''\r\n",
    "Q:C和C0的区别？\r\n",
    "A:Monte Carlo是一种近似采样模拟，I值取得越高，结果越逼近\r\n",
    "'''\r\n",
    "print('call option using Monte Carlo:%f',C0)\r\n",
    "print('call option using formula:%f',C)\r\n",
    "print('put option using formula:%f',P)"
   ],
   "outputs": [
    {
     "output_type": "stream",
     "name": "stdout",
     "text": [
      "call option using Monte Carlo:%f 8.019103194705476\n",
      "call option using formula:%f 8.021352235143176\n",
      "put option using formula:%f 7.9004418077181455\n"
     ]
    }
   ],
   "metadata": {}
  }
 ],
 "metadata": {
  "kernelspec": {
   "display_name": "Python 3",
   "language": "python",
   "name": "python3"
  },
  "language_info": {
   "codemirror_mode": {
    "name": "ipython",
    "version": 3
   },
   "file_extension": ".py",
   "mimetype": "text/x-python",
   "name": "python",
   "nbconvert_exporter": "python",
   "pygments_lexer": "ipython3",
   "version": "3.8.8"
  }
 },
 "nbformat": 4,
 "nbformat_minor": 5
}