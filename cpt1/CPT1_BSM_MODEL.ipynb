{
 "cells": [
  {
   "cell_type": "code",
   "execution_count": 8,
   "id": "0194be3c",
   "metadata": {},
   "outputs": [],
   "source": [
    "'''\n",
    "BSM sample code in PFF cpt.1\n",
    "exp(x)==e^x\n",
    "np.mean(x)==求数组x的平均数\n",
    "stats.norm.cdf==计算累积标准正态分布函数 \n",
    "'''\n",
    "import math\n",
    "import numpy as np\n",
    "from scipy import stats"
   ]
  },
  {
   "cell_type": "code",
   "execution_count": 2,
   "id": "2bc71b97",
   "metadata": {},
   "outputs": [],
   "source": [
    "S0=100.  #初始价格100\n",
    "K=105.   #行权价格105\n",
    "T=1.0    #到期时间1年\n",
    "r=0.05   #短期固定无风险利率5%\n",
    "sigma=0.2#固定波动率20%"
   ]
  },
  {
   "cell_type": "code",
   "execution_count": 3,
   "id": "3d624841",
   "metadata": {},
   "outputs": [],
   "source": [
    "#设定随机数生成器种子数为1000，并提取I个标准正态分布随机数\n",
    "I=100000\n",
    "np.random.seed(1000)\n",
    "z=np.random.standard_normal(I)"
   ]
  },
  {
   "cell_type": "code",
   "execution_count": 4,
   "id": "b22dbfbd",
   "metadata": {},
   "outputs": [],
   "source": [
    "#计算所有到期价值\n",
    "ST=S0*np.exp((r-sigma**2/2)*T+sigma*math.sqrt(T)*z)"
   ]
  },
  {
   "cell_type": "code",
   "execution_count": 5,
   "id": "95bd9b34",
   "metadata": {},
   "outputs": [],
   "source": [
    "#计算所有到期收益\n",
    "hT=np.maximum(ST-K,0)"
   ]
  },
  {
   "cell_type": "code",
   "execution_count": 6,
   "id": "d65d9d7b",
   "metadata": {},
   "outputs": [],
   "source": [
    "#代入计算蒙特卡罗估算函数\n",
    "C0=math.exp(-r*T)*np.mean(hT)"
   ]
  },
  {
   "cell_type": "code",
   "execution_count": 9,
   "id": "fdb42e14",
   "metadata": {},
   "outputs": [],
   "source": [
    "#分别计算看涨看跌期权\n",
    "d1=(np.log(S0/K)+(r+sigma**2/2)*T)/(sigma*np.sqrt(T))\n",
    "d2=d1-sigma*np.sqrt(T)\n",
    "#看涨\n",
    "C=S0*stats.norm.cdf(d1)-K*np.exp(-r*T)*stats.norm.cdf(d2)\n",
    "#看跌\n",
    "P=K*np.exp(-r*T)*stats.norm.cdf(-d2)-S0*stats.norm.cdf(-d1)"
   ]
  },
  {
   "cell_type": "code",
   "execution_count": 16,
   "id": "c1423a48",
   "metadata": {},
   "outputs": [
    {
     "name": "stdout",
     "output_type": "stream",
     "text": [
      "call option using Monte Carlo:%f 8.019103194705476\n",
      "call option using formula:%f 8.021352235143176\n",
      "put option using formula:%f 7.9004418077181455\n"
     ]
    }
   ],
   "source": [
    "'''\n",
    "Q:C和C0的区别？\n",
    "A:Monte Carlo是一种近似采样模拟，I值取得越高，结果越逼近\n",
    "'''\n",
    "print('call option using Monte Carlo:%f',C0)\n",
    "print('call option using formula:%f',C)\n",
    "print('put option using formula:%f',P)"
   ]
  },
  {
   "cell_type": "code",
   "execution_count": null,
   "id": "ae6c90c6",
   "metadata": {},
   "outputs": [],
   "source": []
  }
 ],
 "metadata": {
  "kernelspec": {
   "display_name": "Python 3",
   "language": "python",
   "name": "python3"
  },
  "language_info": {
   "codemirror_mode": {
    "name": "ipython",
    "version": 3
   },
   "file_extension": ".py",
   "mimetype": "text/x-python",
   "name": "python",
   "nbconvert_exporter": "python",
   "pygments_lexer": "ipython3",
   "version": "3.8.8"
  }
 },
 "nbformat": 4,
 "nbformat_minor": 5
}
